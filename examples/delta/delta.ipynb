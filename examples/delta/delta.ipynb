{
 "cells": [
  {
   "cell_type": "markdown",
   "metadata": {
    "collapsed": true
   },
   "source": [
    "# Delta evolution with sea-level change\n",
    "\n",
    "In this example, we investigate the formation of river-dominated deltas under _steady climatic conditions_ (uniform precipitation) and _sea-level fluctuations_. Our goal is to reproduced **first-order sea-level control on river deltas formation**. \n",
    "\n",
    "The initial surface defines a mount which is a half ellipsoid of 2 km height and a circular diameter of 8 km. The sea-level is initially set at the base of this mount at an elevation of 0 m. A uniform precipitation rate of 1 m/a is applied on the entire area and we test the evolution of the surface and associated deposits due to both hillslope and channel flow. Two diffusion coefficients are defined for the aerial (0.3 m2/a) and marine (0.5 m2/a) environments. The higher value for the marine environment is used to account for sediments reworking by waves and/or currents. The simulation runs for 0.5 Ma and we vary the sea-level through time.\n",
    "\n",
    "## Initial settings\n",
    " \n",
    "| Initial elevation | Selevel | \n",
    "| :-------------: |:-------------:|\n",
    "| <img src=\"images/initialsurface.png\" alt=\"surface step 0\" width=\"300\" height=\"400\" border=\"10\" />| <img src=\"images/sealevel.png\" alt=\"sealevel\" width=\"200\" height=\"200\" border=\"10\" /> | \n",
    "|[Badlands companion](https://github.com/badlands-model/pyBadlands-Companion): **toolGeo python class**|[Badlands companion](https://github.com/badlands-model/pyBadlands-Companion): **toolSea python class**|\n",
    "\n",
    "For this model, we use the *stream power law sediment transport model* which scale the incision rate $E$ as a power function of surface water discharge $A$ and slope $S=\\nabla z$:\n",
    "\n",
    "$$ E = \\kappa A^m (\\nabla z)^n$$\n",
    "\n",
    "where $\\kappa$ is the erodibility coefficient dependent on lithology and mean precipitation rate, channel width, flood frequency, channel hydraulics.\n",
    "\n",
    "The values given to these parameters ($\\kappa$, $m$, $n$) need to be set in the **XmL** input file.\n",
    "\n",
    "\n",
    "## Starting pyBadlands\n",
    "\n",
    "First we initialise the model and set the path to the **XmL** input file.\n",
    "\n",
    "You can edit the **XmL** configuration file at [/edit/volume/Examples/delta/delta.xml](/edit/volume/Examples/delta/delta.xml).\n",
    "\n",
    "To view the complete **XmL** options you can follow this link to github page: [complete.xml](https://github.com/badlands-model/pyBadlands/blob/master/Examples/input_complete.xml)."
   ]
  },
  {
   "cell_type": "code",
   "execution_count": 1,
   "metadata": {
    "scrolled": true
   },
   "outputs": [],
   "source": [
    "from pyBadlands.model import Model as badlandsModel"
   ]
  },
  {
   "cell_type": "code",
   "execution_count": 2,
   "metadata": {},
   "outputs": [],
   "source": [
    "# Initialise model\n",
    "model = badlandsModel()\n",
    "# Define the XmL input file\n",
    "model.load_xml('delta.xml')"
   ]
  },
  {
   "cell_type": "markdown",
   "metadata": {},
   "source": [
    "## Running pyBadlands\n",
    "\n",
    "We can run the model for a given period. The end time in the **XmL** input file is set to _500k years_ but you might want to run the model for a coupled of iterations and check the output before running the model for the entire simulation time. This is done by putting the time in the **run_to_time** function. \n",
    "\n",
    "Here we go for the full time directly... it should take about 5 minutes on a single processor if you keep the initial setting unchanged."
   ]
  },
  {
   "cell_type": "code",
   "execution_count": 3,
   "metadata": {
    "scrolled": true
   },
   "outputs": [
    {
     "name": "stdout",
     "output_type": "stream",
     "text": [
      "   - Writing outputs (0.23 seconds; tNow = 0.0)\n",
      "   - Writing outputs (0.19 seconds; tNow = 5000.0)\n",
      "   - Writing outputs (0.18 seconds; tNow = 10000.0)\n",
      "   - Writing outputs (0.18 seconds; tNow = 15000.0)\n",
      "   - Writing outputs (0.17 seconds; tNow = 20000.0)\n",
      "   - Writing outputs (0.18 seconds; tNow = 25000.0)\n",
      "   - Writing outputs (0.18 seconds; tNow = 30000.0)\n",
      "   - Writing outputs (0.19 seconds; tNow = 35000.0)\n",
      "   - Writing outputs (0.18 seconds; tNow = 40000.0)\n",
      "   - Writing outputs (0.19 seconds; tNow = 45000.0)\n",
      "   - Writing outputs (0.19 seconds; tNow = 50000.0)\n",
      "   - Writing outputs (0.19 seconds; tNow = 55000.0)\n",
      "   - Writing outputs (0.19 seconds; tNow = 60000.0)\n",
      "   - Writing outputs (0.19 seconds; tNow = 65000.0)\n",
      "   - Writing outputs (0.18 seconds; tNow = 70000.0)\n",
      "   - Writing outputs (0.18 seconds; tNow = 75000.0)\n",
      "   - Writing outputs (0.25 seconds; tNow = 80000.0)\n",
      "   - Writing outputs (0.22 seconds; tNow = 85000.0)\n",
      "   - Writing outputs (0.18 seconds; tNow = 90000.0)\n",
      "   - Writing outputs (0.19 seconds; tNow = 95000.0)\n",
      "   - Writing outputs (0.19 seconds; tNow = 100000.0)\n",
      "   - Writing outputs (0.19 seconds; tNow = 105000.0)\n",
      "   - Writing outputs (0.18 seconds; tNow = 110000.0)\n",
      "   - Writing outputs (0.18 seconds; tNow = 115000.0)\n",
      "   - Writing outputs (0.25 seconds; tNow = 120000.0)\n",
      "   - Writing outputs (0.17 seconds; tNow = 125000.0)\n",
      "   - Writing outputs (0.18 seconds; tNow = 130000.0)\n",
      "   - Writing outputs (0.18 seconds; tNow = 135000.0)\n",
      "   - Writing outputs (0.18 seconds; tNow = 140000.0)\n",
      "   - Writing outputs (0.19 seconds; tNow = 145000.0)\n",
      "   - Writing outputs (0.18 seconds; tNow = 150000.0)\n",
      "   - Writing outputs (0.18 seconds; tNow = 155000.0)\n",
      "   - Writing outputs (0.18 seconds; tNow = 160000.0)\n",
      "   - Writing outputs (0.18 seconds; tNow = 165000.0)\n",
      "   - Writing outputs (0.17 seconds; tNow = 170000.0)\n",
      "   - Writing outputs (0.18 seconds; tNow = 175000.0)\n",
      "   - Writing outputs (0.17 seconds; tNow = 180000.0)\n",
      "   - Writing outputs (0.18 seconds; tNow = 185000.0)\n",
      "   - Writing outputs (0.18 seconds; tNow = 190000.0)\n",
      "   - Writing outputs (0.18 seconds; tNow = 195000.0)\n",
      "   - Writing outputs (0.18 seconds; tNow = 200000.0)\n",
      "   - Writing outputs (0.18 seconds; tNow = 205000.0)\n",
      "   - Writing outputs (0.18 seconds; tNow = 210000.0)\n",
      "   - Writing outputs (0.19 seconds; tNow = 215000.0)\n",
      "   - Writing outputs (0.18 seconds; tNow = 220000.0)\n",
      "   - Writing outputs (0.18 seconds; tNow = 225000.0)\n",
      "   - Writing outputs (0.20 seconds; tNow = 230000.0)\n",
      "   - Writing outputs (0.18 seconds; tNow = 235000.0)\n",
      "   - Writing outputs (0.19 seconds; tNow = 240000.0)\n",
      "   - Writing outputs (0.18 seconds; tNow = 245000.0)\n",
      "   - Writing outputs (0.18 seconds; tNow = 250000.0)\n",
      "   - Writing outputs (0.18 seconds; tNow = 255000.0)\n",
      "   - Writing outputs (0.18 seconds; tNow = 260000.0)\n",
      "   - Writing outputs (0.18 seconds; tNow = 265000.0)\n",
      "   - Writing outputs (0.18 seconds; tNow = 270000.0)\n",
      "   - Writing outputs (0.18 seconds; tNow = 275000.0)\n",
      "   - Writing outputs (0.18 seconds; tNow = 280000.0)\n",
      "   - Writing outputs (0.20 seconds; tNow = 285000.0)\n",
      "   - Writing outputs (0.17 seconds; tNow = 290000.0)\n",
      "   - Writing outputs (0.17 seconds; tNow = 295000.0)\n",
      "   - Writing outputs (0.19 seconds; tNow = 300000.0)\n",
      "   - Writing outputs (0.18 seconds; tNow = 305000.0)\n",
      "   - Writing outputs (0.19 seconds; tNow = 310000.0)\n",
      "   - Writing outputs (0.18 seconds; tNow = 315000.0)\n",
      "   - Writing outputs (0.18 seconds; tNow = 320000.0)\n",
      "   - Writing outputs (0.18 seconds; tNow = 325000.0)\n",
      "   - Writing outputs (0.17 seconds; tNow = 330000.0)\n",
      "   - Writing outputs (0.18 seconds; tNow = 335000.0)\n",
      "   - Writing outputs (0.17 seconds; tNow = 340000.0)\n",
      "   - Writing outputs (0.17 seconds; tNow = 345000.0)\n",
      "   - Writing outputs (0.18 seconds; tNow = 350000.0)\n",
      "   - Writing outputs (0.18 seconds; tNow = 355000.0)\n",
      "   - Writing outputs (0.18 seconds; tNow = 360000.0)\n",
      "   - Writing outputs (0.18 seconds; tNow = 365000.0)\n",
      "   - Writing outputs (0.17 seconds; tNow = 370000.0)\n",
      "   - Writing outputs (0.18 seconds; tNow = 375000.0)\n",
      "   - Writing outputs (0.17 seconds; tNow = 380000.0)\n",
      "   - Writing outputs (0.19 seconds; tNow = 385000.0)\n",
      "   - Writing outputs (0.17 seconds; tNow = 390000.0)\n",
      "   - Writing outputs (0.19 seconds; tNow = 395000.0)\n",
      "   - Writing outputs (0.18 seconds; tNow = 400000.0)\n",
      "   - Writing outputs (0.19 seconds; tNow = 405000.0)\n",
      "   - Writing outputs (0.18 seconds; tNow = 410000.0)\n",
      "   - Writing outputs (0.19 seconds; tNow = 415000.0)\n",
      "   - Writing outputs (0.18 seconds; tNow = 420000.0)\n",
      "   - Writing outputs (0.19 seconds; tNow = 425000.0)\n",
      "   - Writing outputs (0.18 seconds; tNow = 430000.0)\n",
      "   - Writing outputs (0.18 seconds; tNow = 435000.0)\n",
      "   - Writing outputs (0.18 seconds; tNow = 440000.0)\n",
      "   - Writing outputs (0.18 seconds; tNow = 445000.0)\n",
      "   - Writing outputs (0.18 seconds; tNow = 450000.0)\n",
      "   - Writing outputs (0.18 seconds; tNow = 455000.0)\n",
      "   - Writing outputs (0.19 seconds; tNow = 460000.0)\n",
      "   - Writing outputs (0.17 seconds; tNow = 465000.0)\n",
      "   - Writing outputs (0.17 seconds; tNow = 470000.0)\n",
      "   - Writing outputs (0.19 seconds; tNow = 475000.0)\n",
      "   - Writing outputs (0.17 seconds; tNow = 480000.0)\n",
      "   - Writing outputs (0.17 seconds; tNow = 485000.0)\n",
      "   - Writing outputs (0.18 seconds; tNow = 490000.0)\n",
      "   - Writing outputs (0.18 seconds; tNow = 495000.0)\n",
      "tNow = 500000.0 (0.11 seconds)\n",
      "   - Writing outputs (0.20 seconds; tNow = 500000.0)\n"
     ]
    }
   ],
   "source": [
    "# Run model for 500k years. This takes a few minutes.\n",
    "model.run_to_time(500000)"
   ]
  },
  {
   "cell_type": "markdown",
   "metadata": {},
   "source": [
    "# Visualise in Paraview\n",
    "\n",
    "For an in-depth visualisation of the model output it is recommended to install on your local machine a visualisation package such as [Paraview](http://www.paraview.org) or [Visit](https://wci.llnl.gov/simulation/computer-codes/visit/).\n",
    "\n",
    "**Badlands** outputs are created in the directory you've specified in your **XmL** input file. In cases where you have ran several instances of the same input you will end up with multiple directories with the same name followed with the simulation number.\n",
    "\n",
    "The folder contains xdmf series files:\n",
    "+ **tin.series.xdmf** which will display the time series of surface evolution.\n",
    "+ **flow.series.xdmf** which will display the time series of drainage network evolution.\n",
    "\n",
    "| Time step 25| Time step 50 | \n",
    "| :-------------: |:-------------:|\n",
    "| <img src=\"images/step25.png\" alt=\"Step 25\" width=\"540\" height=\"180\" border=\"10\" />| <img src=\"images/step50.png\" alt=\"Step 50\" width=\"540\" height=\"180\" border=\"10\" /> | \n",
    "\n",
    "| Time step 75| Time step 100| \n",
    "| :-------------: |:-------------:|\n",
    "| <img src=\"images/step75.png\" alt=\"Step 75\" width=\"540\" height=\"180\" border=\"10\" /> | <img src=\"images/step100.png\" alt=\"Step 75\" width=\"540\" height=\"180\" border=\"10\" />|\n",
    "\n",
    "Using paraview you will be able to extract several of the information computed by badlands and there also in the [Badlands companion](https://github.com/badlands-model/pyBadlands-Companion) container additional post-processing functions to look at:\n",
    "+ **morphometrics **\n",
    "+ **hydrometrics **\n"
   ]
  },
  {
   "cell_type": "code",
   "execution_count": null,
   "metadata": {},
   "outputs": [],
   "source": []
  }
 ],
 "metadata": {
  "kernelspec": {
   "display_name": "Python 3",
   "language": "python",
   "name": "python3"
  },
  "language_info": {
   "codemirror_mode": {
    "name": "ipython",
    "version": 3
   },
   "file_extension": ".py",
   "mimetype": "text/x-python",
   "name": "python",
   "nbconvert_exporter": "python",
   "pygments_lexer": "ipython3",
   "version": "3.5.3"
  }
 },
 "nbformat": 4,
 "nbformat_minor": 1
}

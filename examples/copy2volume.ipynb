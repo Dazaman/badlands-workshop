{
 "cells": [
  {
   "cell_type": "markdown",
   "metadata": {},
   "source": [
    "# Run Badlands examples on a container volume\n",
    "\n",
    "<div class=\"alert alert-block alert-warning\">\n",
    "If you've linked a <b>volume</b> to your Docker container you might want to copy the Examples on your volume directly. </div>\n",
    "\n",
    "This is easily done within an `IPython notebook` using the following command:\n",
    "\n",
    "\n",
    "```bash \n",
    "!cp -rf src/ dest/\n",
    "```\n",
    "\n",
    "It is possible to use Linux command directly from the notebook by using the **! magic command**."
   ]
  },
  {
   "cell_type": "code",
   "execution_count": null,
   "metadata": {},
   "outputs": [],
   "source": [
    "!pwd"
   ]
  },
  {
   "cell_type": "code",
   "execution_count": null,
   "metadata": {},
   "outputs": [],
   "source": [
    "!cp -rf /live/badlands-workshop/examples/flexure /live/share/"
   ]
  },
  {
   "cell_type": "code",
   "execution_count": null,
   "metadata": {},
   "outputs": [],
   "source": []
  }
 ],
 "metadata": {
  "kernelspec": {
   "display_name": "Python 3",
   "language": "python",
   "name": "python3"
  },
  "language_info": {
   "codemirror_mode": {
    "name": "ipython",
    "version": 3
   },
   "file_extension": ".py",
   "mimetype": "text/x-python",
   "name": "python",
   "nbconvert_exporter": "python",
   "pygments_lexer": "ipython3",
   "version": "3.5.3"
  }
 },
 "nbformat": 4,
 "nbformat_minor": 1
}

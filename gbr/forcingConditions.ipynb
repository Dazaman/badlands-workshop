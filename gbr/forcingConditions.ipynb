{
 "cells": [
  {
   "cell_type": "markdown",
   "metadata": {},
   "source": [
    "This example is based on the following studies:\n",
    "\n",
    "> **Evaluating key controls on sediment flux to the Gulf of Corinth over the last 130 kyrs using a forward modeling approach** -- Sofia Pechlivanidou, Guillaume Duclaux, Tristan Salles, Casey Nixon, Patience Cowie, Robert Gawthorpe, Ritske Huismans \n",
    "\n",
    "+ AGU -- EP029:_'Mountain Peak to Sea Floor: Processes, Interactions and Feedbacks between Sediment Supply and Landscape Evolution'_, 2017 \n",
    "+ EGU  -- TS6.1/GD7.4/GM4.7/GMPV8.6/SSP3.17:_'Evolution and architecture of rifts and passive margins: from mantle dynamics to surface processes'_, 2018. "
   ]
  },
  {
   "cell_type": "code",
   "execution_count": null,
   "metadata": {},
   "outputs": [],
   "source": [
    "import warnings\n",
    "warnings.filterwarnings('ignore')\n",
    "warnings.simplefilter(action = \"ignore\", category = FutureWarning)\n",
    "\n",
    "import cmocean as cmo\n",
    "from matplotlib import cm\n",
    "from scripts import readInput as rInput\n",
    "\n",
    "# display plots in SVG format\n",
    "%config InlineBackend.figure_format = 'svg'\n",
    "%matplotlib inline"
   ]
  },
  {
   "cell_type": "markdown",
   "metadata": {},
   "source": [
    "# Evaluating key controls on erosion and deposition within active rifts\n",
    "\n",
    "\n",
    "We use a numerical modeling approach to explore key controls on erosion and deposition within active rifts. \n",
    " \n",
    "<div class=\"alert alert-block alert-info\">We will simulate the landscape development and basin stratigraphy for one of the most active rifts in the world, the **Corinth Rift**, over the past 130 kyrs.  We will see the different methods available in Badlands to constrain our model with field data and potentially assess the relative importance of: i) tectonic uplift/subsidence rate, ii) drainage area, iii) pre-existing topography, and iv) lithology on sediment delivered to the rift.</div>\n",
    "\n",
    "***\n",
    "\n",
    "## Study area\n",
    "\n",
    "The Corinth Rift in central Greece is considered one of the most rapidly extending continental rifts on Earth that initiated <5 Ma (Ori, 1989; Leeder et al., 2008).\n",
    "\n",
    "<img src=\"images/area.png\" alt=\"geometry\" width=\"340\" height=\"400\"/>\n",
    "\n",
    "Northward migration of fault activity since $\\sim$0.6 Ma and the progressive growth and linkage of predominantly north-dipping faults has resulted in the formation of an E - W oriented asym- metric marine graben, $\\sim$120 km long and up to 30 km wide (_i.e._ the Gulf of Corinth).\n",
    "\n",
    "The Gulf of Corinth records $\\sim$2.5 km of offshore syn-rift deposits. Over the Late Quaternary sedimentation was characterized by alternating marine and lacustrine conditions, related to 100 kyr glacio-eustatic cycles, that produce characteristic seismic reflection profiles (_e.g._ Bell et al., 2009; Taylor et al., 2011; Nixon et al., 2016).\n",
    "\n",
    "\n",
    "Isochore map highlighting the presence of a continuous depocenter developed as a responce to linkage of major north-dipping faults along the southern rift margin (Nixon et al., 2016).\n",
    "\n",
    "<img src=\"images/volume.png\" alt=\"geometry\" width=\"600\" height=\"400\"/>"
   ]
  },
  {
   "cell_type": "markdown",
   "metadata": {},
   "source": [
    "***\n",
    "\n",
    "Let's have a look at the initial forcing conditions that will be use in this example.\n",
    "\n",
    "\n",
    "## Initial surface "
   ]
  },
  {
   "cell_type": "code",
   "execution_count": null,
   "metadata": {},
   "outputs": [],
   "source": [
    "forcings = rInput.readInput()"
   ]
  },
  {
   "cell_type": "code",
   "execution_count": null,
   "metadata": {},
   "outputs": [],
   "source": [
    "forcings.readDEM('data/gbrnodes.csv')"
   ]
  },
  {
   "cell_type": "markdown",
   "metadata": {},
   "source": [
    "On all the plots below we will use the cmocean [colormap](https://matplotlib.org/cmocean/)."
   ]
  },
  {
   "cell_type": "code",
   "execution_count": null,
   "metadata": {},
   "outputs": [],
   "source": [
    "forcings.plotInputGrid(data=forcings.Z,title=\"elevation\",\n",
    "                       mind=-4000.,maxd=4000,color=cmo.cm.delta)"
   ]
  },
  {
   "cell_type": "markdown",
   "metadata": {},
   "source": [
    "***\n",
    "\n",
    "## Sea level\n",
    "\n",
    "Global sea-level curve is used to account for eustatic vs. lacustrine fluctuations of the base-level."
   ]
  },
  {
   "cell_type": "code",
   "execution_count": null,
   "metadata": {},
   "outputs": [],
   "source": [
    "forcings.readSea('data/lambeck14.csv') "
   ]
  },
  {
   "cell_type": "markdown",
   "metadata": {},
   "source": [
    "## Precipitation map \n",
    "\n",
    "The precipitation map has been extracted from present day annual rainfall regime using the following website **http://www.worldclim.org**."
   ]
  },
  {
   "cell_type": "code",
   "execution_count": null,
   "metadata": {},
   "outputs": [],
   "source": [
    "forcings.readRain('data/gbrrain.csv')"
   ]
  },
  {
   "cell_type": "code",
   "execution_count": null,
   "metadata": {},
   "outputs": [],
   "source": [
    "forcings.plotInputGrid(data=forcings.rain,title=\"precipitation [m/y]\",\n",
    "                       mind=0.,maxd=4,color=cmo.cm.ice_r)"
   ]
  },
  {
   "cell_type": "markdown",
   "metadata": {},
   "source": [
    "## Bedrock map\n",
    "\n",
    "Mapped lithostratigraphic units are clustered based on elevation and slope and used to classify bedrock erodibility. In Sofia's model three groups are defined.\n",
    "\n",
    "<img src=\"images/ero.png\" alt=\"geometry\" width=\"500\" height=\"400\"/>"
   ]
  },
  {
   "cell_type": "code",
   "execution_count": null,
   "metadata": {},
   "outputs": [],
   "source": [
    "forcings.readEroLay('data/gbrbase.csv')"
   ]
  },
  {
   "cell_type": "markdown",
   "metadata": {},
   "source": [
    "In this example, we modify the initial setting and chose 2 different layers:\n",
    "+ **layer 1** is a bottom uniform layer -- erodibility: $\\kappa = 5.e^{-6}$; thickness: 1000. m\n",
    "+ **layer 2** is the surface layer with varying erodibility and thickness.\n",
    "\n",
    "\n",
    "In the top layer (layer 2), we simplify the bedrock erodibility map propose in Sofia's experiment and define only 2 groups based on _elevation_:\n",
    "+ **group 1**: erodibility ($\\kappa = 3.e^{-6}$) above 700 m elevation with a thickness of 5. m\n",
    "+ **group 2**: erodibility ($\\kappa = 1.e^{-6}$) below 700 m elevation with a thickness of 10. m\n",
    "\n",
    "We can visualise the top layer definition which is passed to Badlands:"
   ]
  },
  {
   "cell_type": "code",
   "execution_count": null,
   "metadata": {},
   "outputs": [],
   "source": [
    "forcings.plotInputGrid(data=forcings.erolays[0],title=\"erodibility layer 2\",\n",
    "                       mind=1.e-6,maxd=5.e-6,color=cmo.cm.matter)"
   ]
  },
  {
   "cell_type": "code",
   "execution_count": null,
   "metadata": {},
   "outputs": [],
   "source": []
  },
  {
   "cell_type": "code",
   "execution_count": null,
   "metadata": {},
   "outputs": [],
   "source": [
    "forcings1 = rInput.readInput()\n",
    "\n",
    "forcings1.readDEM('data/gbr500north.csv')\n",
    "forcings1.plotInputGrid(data=forcings1.Z,title=\"elevation\",\n",
    "                       mind=-4000.,maxd=4000,color=cmo.cm.delta)\n",
    "\n",
    "forcings1.readRain('data/rain500north.csv')\n",
    "forcings1.plotInputGrid(data=forcings1.rain,title=\"precipitation [m/y]\",\n",
    "                       mind=0.,maxd=4,color=cmo.cm.ice_r)\n",
    "\n",
    "forcings1.readEroLay('data/base500north.csv')\n",
    "forcings1.plotInputGrid(data=forcings1.erolays[0],title=\"erodibility layer 2\",\n",
    "                       mind=1.e-6,maxd=5.e-6,color=cmo.cm.matter)"
   ]
  },
  {
   "cell_type": "code",
   "execution_count": null,
   "metadata": {},
   "outputs": [],
   "source": []
  },
  {
   "cell_type": "code",
   "execution_count": null,
   "metadata": {},
   "outputs": [],
   "source": [
    "import numpy as np\n",
    "import pandas as pd\n",
    "import matplotlib.pyplot as plt\n",
    "import cmocean as cmo\n",
    "from matplotlib import cm\n",
    "from pylab import rcParams\n",
    "from scipy.interpolate import RegularGridInterpolator\n",
    "from mpl_toolkits.axes_grid1 import make_axes_locatable\n",
    "\n",
    "xi = np.reshape(forcings1.X,(forcings1.nx, forcings1.ny),order='F')\n",
    "yi = np.reshape(forcings1.Y,(forcings1.nx, forcings1.ny),order='F')\n",
    "print xi.min(),xi.max()\n",
    "print yi.min(),yi.max()\n",
    "\n",
    "erange = [90000,500000,-1850000,-1480000]\n",
    "\n",
    "r1,c1 = np.where(np.logical_and(xi>=erange[0],xi<=erange[1]))\n",
    "r2,c2 = np.where(np.logical_and(yi>=erange[2],yi<=erange[3]))\n",
    "\n",
    "rx = xi[r1.min():r1.max(),c2.min():c2.max()]\n",
    "ry = yi[r1.min():r1.max(),c2.min():c2.max()]\n",
    "zdata = forcings1.Z[r1.min():r1.max(),c2.min():c2.max()]\n",
    "rdata = forcings1.rain[r1.min():r1.max(),c2.min():c2.max()]\n",
    "bdata = forcings1.erolays[0][r1.min():r1.max(),c2.min():c2.max()]\n",
    "print rdata.shape,forcings1.Z.shape,bdata.shape\n",
    "print rx.shape"
   ]
  },
  {
   "cell_type": "code",
   "execution_count": null,
   "metadata": {},
   "outputs": [],
   "source": [
    "xgrid = np.arange(0,rx.shape[0]*forcings.dx,forcings.dx)\n",
    "ygrid = np.arange(0,rx.shape[1]*forcings.dx,forcings.dx)\n",
    "RGI_function1 = RegularGridInterpolator((xgrid, ygrid), zdata)\n",
    "RGI_function2 = RegularGridInterpolator((xgrid, ygrid), rdata)\n",
    "RGI_function3 = RegularGridInterpolator((xgrid, ygrid), bdata)\n",
    "\n",
    "res = forcings.dx*2.\n",
    "ngridX = np.arange(0,xgrid.max(),res)\n",
    "ngridY = np.arange(0,ygrid.max()+res,res)\n",
    "xii,yii = np.meshgrid(ngridX, ngridY)\n",
    "\n",
    "newz = RGI_function1((xii.flatten(),yii.flatten()))\n",
    "newr = RGI_function2((xii.flatten(),yii.flatten()))\n",
    "newb = RGI_function3((xii.flatten(),yii.flatten()))\n",
    "\n",
    "df = pd.DataFrame({'X':xii.flatten(),'Y':yii.flatten(),'Z':newz.flatten()})\n",
    "df.to_csv('data/gbrnodes.csv',columns=['X', 'Y', 'Z'], sep=' ', index=False ,header=0)\n",
    "\n",
    "\n",
    "df = pd.DataFrame({'X':xii.flatten(),'Y':yii.flatten(),'Z':newr.flatten()})\n",
    "df.to_csv('data/gbrrain.csv',columns=['Z'], sep=' ', index=False ,header=0)\n",
    "\n",
    "\n",
    "newb[newb<1]=0\n",
    "df = pd.DataFrame({'X':xii.flatten(),'Y':yii.flatten(),'Z':newb.flatten()})\n",
    "df.to_csv('data/gbrbase.csv',columns=['Z'], sep=' ', index=False ,header=0)"
   ]
  },
  {
   "cell_type": "code",
   "execution_count": null,
   "metadata": {},
   "outputs": [],
   "source": []
  },
  {
   "cell_type": "code",
   "execution_count": null,
   "metadata": {},
   "outputs": [],
   "source": []
  },
  {
   "cell_type": "code",
   "execution_count": null,
   "metadata": {},
   "outputs": [],
   "source": [
    "forcings2 = rInput.readInput()\n",
    "\n",
    "forcings2.readDEM('data/gbrnodes.csv')\n",
    "forcings2.plotInputGrid(data=forcings2.Z,title=\"elevation\",\n",
    "                       mind=-4000.,maxd=4000,color=cmo.cm.delta)\n",
    "\n",
    "forcings2.readRain('data/gbrrain.csv')\n",
    "forcings2.plotInputGrid(data=forcings2.rain,title=\"precipitation [m/y]\",\n",
    "                       mind=0.,maxd=4,color=cmo.cm.ice_r)\n",
    "\n",
    "forcings2.readEroLay('data/gbrbase.csv')\n",
    "forcings2.plotInputGrid(data=forcings2.erolays[0],title=\"erodibility layer 2\",\n",
    "                       mind=1.e-6,maxd=5.e-6,color=cmo.cm.matter)"
   ]
  },
  {
   "cell_type": "code",
   "execution_count": null,
   "metadata": {},
   "outputs": [],
   "source": []
  }
 ],
 "metadata": {
  "kernelspec": {
   "display_name": "Python 2",
   "language": "python",
   "name": "python2"
  },
  "language_info": {
   "codemirror_mode": {
    "name": "ipython",
    "version": 2
   },
   "file_extension": ".py",
   "mimetype": "text/x-python",
   "name": "python",
   "nbconvert_exporter": "python",
   "pygments_lexer": "ipython2",
   "version": "2.7.12"
  }
 },
 "nbformat": 4,
 "nbformat_minor": 2
}

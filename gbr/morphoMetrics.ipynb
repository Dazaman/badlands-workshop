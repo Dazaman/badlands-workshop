{
 "cells": [
  {
   "cell_type": "markdown",
   "metadata": {},
   "source": [
    "# Comparison with observations: deposited volume\n",
    "\n",
    "A way of calibrating the model consists in using offshore volumes obtained from seismic datasets. \n",
    "\n",
    "***\n",
    "\n",
    "***\n",
    "\n",
    "\n",
    "> To compare output volume from the simulation with observed volume, it is necessary to convert the offshore volumes into grain volume by subtracting the pore space (here Sofia's used 54% in situ porosity) and a weighted average onshore porosity (~33%). \n",
    "\n",
    "<div class=\"alert alert-block alert-info\">In this notebook, we will extract the value of deposited volume for a specific area and plot other metrics available to analyse the surface morphology.</div>"
   ]
  },
  {
   "cell_type": "code",
   "execution_count": null,
   "metadata": {},
   "outputs": [],
   "source": [
    "import warnings\n",
    "warnings.filterwarnings('ignore')\n",
    "warnings.simplefilter(action = \"ignore\", category = FutureWarning)\n",
    "\n",
    "import numpy as np\n",
    "import cmocean as cmo\n",
    "from matplotlib import cm\n",
    "\n",
    "from scripts import analyseWaveReef as wrAnalyse\n",
    "\n",
    "# display plots in SVG format\n",
    "%config InlineBackend.figure_format = 'svg'\n",
    "%matplotlib inline"
   ]
  },
  {
   "cell_type": "markdown",
   "metadata": {},
   "source": [
    "## Loading the dataset\n",
    "\n",
    "We first load the simulation last output file (timestep=13) to pick a specific catchment."
   ]
  },
  {
   "cell_type": "code",
   "execution_count": null,
   "metadata": {},
   "outputs": [],
   "source": [
    "dataTIN = wrAnalyse.analyseWaveReef(folder='output',timestep=22)"
   ]
  },
  {
   "cell_type": "code",
   "execution_count": null,
   "metadata": {},
   "outputs": [],
   "source": [
    "dataTIN.regridTINdataSet()"
   ]
  },
  {
   "cell_type": "markdown",
   "metadata": {},
   "source": [
    "We can plot a series of different parameters from the model for the chosen timestep:\n",
    "\n",
    "+ elevation: `dataTIN.z`\n",
    "+ slope: `dataTIN.slp`\n",
    "+ total erosion/deposition: `dataTIN.dz`\n",
    "+ wave-induced erosion/deposition: `dataTIN.wavesed`\n",
    "+ wave-induced shear stress: `dataTIN.wavestress`\n",
    "+ hillslope induced erosion/deposition : `dataTIN.cumhill`\n",
    "+ reef present/absent: `dataTIN.depreef`\n",
    "+ aspect: `dataTIN.aspect`\n",
    "+ horizontal curvature: `dataTIN.hcurv`\n",
    "+ vertical curvature: `dataTIN.vcurv`"
   ]
  },
  {
   "cell_type": "code",
   "execution_count": null,
   "metadata": {},
   "outputs": [],
   "source": [
    "dataTIN.plotdataSet(title='Elevation', data=dataTIN.z, color=cmo.cm.delta,crange=[-2000,2000])"
   ]
  },
  {
   "cell_type": "code",
   "execution_count": null,
   "metadata": {},
   "outputs": [],
   "source": [
    "dataTIN.plotdataSet(title='Total erosion/deposition [m]', data=dataTIN.dz, color=cmo.cm.balance,crange=[-20.,20.])"
   ]
  },
  {
   "cell_type": "code",
   "execution_count": null,
   "metadata": {},
   "outputs": [],
   "source": [
    "dataTIN.plotdataSet(title='Wave erosion/deposition [m]', data=dataTIN.wavesed, color=cmo.cm.balance,crange=[-5.,5.])"
   ]
  },
  {
   "cell_type": "code",
   "execution_count": null,
   "metadata": {},
   "outputs": [],
   "source": [
    "dataTIN.plotdataSet(title='Hillslope erosion/deposition [m]', data=dataTIN.cumhill, color=cmo.cm.balance,\n",
    "                      crange=[-2.5,2.5])"
   ]
  },
  {
   "cell_type": "code",
   "execution_count": null,
   "metadata": {},
   "outputs": [],
   "source": [
    "dataTIN.plotdataSet(title='Wave induced stress', data=dataTIN.wavestress, color=cmo.cm.tempo,crange=[0.,2.],ctr='k')"
   ]
  },
  {
   "cell_type": "code",
   "execution_count": null,
   "metadata": {},
   "outputs": [],
   "source": [
    "dataTIN.plotdataSet(title='Reef absent/present', data=dataTIN.depreef, color=cm.Blues,\n",
    "                      crange=[0,2])"
   ]
  },
  {
   "cell_type": "markdown",
   "metadata": {},
   "source": [
    "## Analysing sediment erosion/deposition and reef growth\n",
    "\n",
    "As shown in the previous notebook on the erosion rate, we have access to the deposited volume over time and can perform from the notebook a calculation of the accumulated volume in the entire region or in a specific area. This can be done in this way:"
   ]
  },
  {
   "cell_type": "markdown",
   "metadata": {},
   "source": [
    "***\n",
    "\n",
    "<img src=\"images/geo.png\" alt=\"geometry\" width=\"800\" height=\"550\"/>\n",
    "\n",
    "*** \n",
    "\n",
    "One other thing that can potentially be done is comparing the patterns and thicknesses of the deposits with the isochore map above from Nixon et al., 2016."
   ]
  },
  {
   "cell_type": "code",
   "execution_count": null,
   "metadata": {},
   "outputs": [],
   "source": [
    "dataTIN.plotdataSet(title='Erosion/Deposition [m]', data=dataTIN.dz, color=cmo.cm.balance,  \n",
    "                      crange=[-25,25], erange=[100000,250000,540000,640000],\n",
    "                      depctr=(-2,10),ctr='k',size=(10,10))"
   ]
  },
  {
   "cell_type": "code",
   "execution_count": null,
   "metadata": {},
   "outputs": [],
   "source": [
    "dataTIN.plotdataSet(title='Reef position', data=dataTIN.depreef, color=cmo.cm.balance,  \n",
    "                      crange=[-2,2], erange=[100000,250000,540000,640000],\n",
    "                      depctr=(1),ctr='k',size=(10,10))"
   ]
  },
  {
   "cell_type": "markdown",
   "metadata": {},
   "source": [
    "### Total volume of erosion and deposition"
   ]
  },
  {
   "cell_type": "code",
   "execution_count": null,
   "metadata": {},
   "outputs": [],
   "source": [
    "dataTIN.getDepositedVolume(data=dataTIN.dz,time=11000.,erange=[100000,250000,540000,640000])\n",
    "print '----'\n",
    "dataTIN.getErodedVolume(data=dataTIN.dz,time=11000.,erange=[100000,250000,540000,640000])"
   ]
  },
  {
   "cell_type": "markdown",
   "metadata": {},
   "source": [
    "### Total volume of erosion and deposition induced by hillslope processes"
   ]
  },
  {
   "cell_type": "code",
   "execution_count": null,
   "metadata": {},
   "outputs": [],
   "source": [
    "dataTIN.getDepositedVolume(data=dataTIN.cumhill,time=11000.,erange=[100000,250000,540000,640000])\n",
    "print '----'\n",
    "dataTIN.getErodedVolume(data=dataTIN.cumhill,time=11000.,erange=[100000,250000,540000,640000])"
   ]
  },
  {
   "cell_type": "markdown",
   "metadata": {},
   "source": [
    "### Total volume of erosion and deposition induced by wave processes"
   ]
  },
  {
   "cell_type": "code",
   "execution_count": null,
   "metadata": {},
   "outputs": [],
   "source": [
    "dataTIN.getDepositedVolume(data=dataTIN.wavesed,time=11000.,erange=[100000,250000,540000,640000])\n",
    "print '----'\n",
    "dataTIN.getErodedVolume(data=dataTIN.wavesed,time=11000.,erange=[100000,250000,540000,640000])"
   ]
  },
  {
   "cell_type": "markdown",
   "metadata": {},
   "source": [
    "### Total volume of erosion and deposition around reef systems"
   ]
  },
  {
   "cell_type": "code",
   "execution_count": null,
   "metadata": {},
   "outputs": [],
   "source": [
    "r,c = np.where(dataTIN.depreef>0)\n",
    "erodepreef = np.zeros(dataTIN.dz.shape)\n",
    "erodepreef[r,c] = dataTIN.dz[r,c]\n",
    "dataTIN.getDepositedVolume(data=erodepreef,time=11000.,erange=[100000,250000,540000,640000])\n",
    "print '----'\n",
    "dataTIN.getErodedVolume(data=erodepreef,time=11000.,erange=[100000,250000,540000,640000])"
   ]
  },
  {
   "cell_type": "markdown",
   "metadata": {},
   "source": [
    "## Temporal analyse of reef growth\n",
    "\n",
    "As shown in the previous notebook on the erosion rate, we have access to the deposited volume over time and can perform from the notebook a calculation of the accumulated volume in the entire region or in a specific area. This can be done in this way:"
   ]
  },
  {
   "cell_type": "code",
   "execution_count": null,
   "metadata": {},
   "outputs": [],
   "source": [
    "time = np.linspace(-10000.0, 0.0, num=21)\n",
    "time,ero,depo = wrAnalyse.temporalGrowth(folder='output',step=22,vtime=time,\n",
    "                                         smooth=50,vrange=[100000,250000,540000,640000])\n",
    "wrAnalyse.temporalPlot(time,ero,depo,size=(8,5))"
   ]
  },
  {
   "cell_type": "code",
   "execution_count": null,
   "metadata": {},
   "outputs": [],
   "source": []
  }
 ],
 "metadata": {
  "kernelspec": {
   "display_name": "Python 2",
   "language": "python",
   "name": "python2"
  },
  "language_info": {
   "codemirror_mode": {
    "name": "ipython",
    "version": 2
   },
   "file_extension": ".py",
   "mimetype": "text/x-python",
   "name": "python",
   "nbconvert_exporter": "python",
   "pygments_lexer": "ipython2",
   "version": "2.7.12"
  }
 },
 "nbformat": 4,
 "nbformat_minor": 2
}
